{
 "cells": [
  {
   "cell_type": "code",
   "execution_count": 1,
   "metadata": {},
   "outputs": [],
   "source": [
    "# default_exp models.glp\n",
    "\n",
    "%reload_ext autoreload\n",
    "%autoreload 2"
   ]
  },
  {
   "cell_type": "code",
   "execution_count": 10,
   "metadata": {},
   "outputs": [],
   "source": [
    "import sys\n",
    "sys.path.append('../')"
   ]
  },
  {
   "cell_type": "markdown",
   "metadata": {},
   "source": [
    "# models.glp\n",
    "\n",
    "Models related to Genomic Language Processing"
   ]
  },
  {
   "cell_type": "code",
   "execution_count": 2,
   "metadata": {},
   "outputs": [],
   "source": [
    "#hide\n",
    "#export\n",
    "\n",
    "import pandas as pd\n",
    "import numpy as np\n",
    "\n",
    "from fastai.text.all import *"
   ]
  },
  {
   "cell_type": "markdown",
   "metadata": {},
   "source": [
    "## layers"
   ]
  },
  {
   "cell_type": "markdown",
   "metadata": {},
   "source": [
    "The output of the ProtBert models need a special type of pooling called `masked_concat_pooling` this concatenates:\n",
    "\n",
    "  - The last unmasked token (the final state of the model).\n",
    "  - The max value of each feature along the unmasked tokens.\n",
    "  - The mean value of each feature along the unmasked tokens.\n",
    "  \n",
    "So, for each (batch, seq_len, feature) items we should get a (batch, 3\\*feature) tensor. This was taken from the Fast.ai library code and refactored to account for weirdness I often saw.\n",
    "\n",
    "`bqtt` refers the max sequence length (which may or may not be the same as the `seq_len` dimension)"
   ]
  },
  {
   "cell_type": "code",
   "execution_count": 3,
   "metadata": {},
   "outputs": [],
   "source": [
    "# export\n",
    "\n",
    "def masked_concat_pool(output, mask, bptt):\n",
    "    \"Pool `MultiBatchEncoder` outputs into one vector [last_hidden, max_pool, avg_pool]\"\n",
    "    # True in mask implies MASKED and will be hidden!\n",
    "    \n",
    "    lens = output.shape[1] - mask.long().sum(dim=1)\n",
    "    last_lens = mask[:,-bptt:].long().sum(dim=1)\n",
    "    avg_pool = output.masked_fill(mask[:, :, None], 0).sum(dim=1)\n",
    "    avg_pool.div_(lens.type(avg_pool.dtype)[:,None])\n",
    "    max_pool = output.masked_fill(mask[:,:,None], -float('inf')).max(dim=1)[0]\n",
    "    \n",
    "    last_hidden = output[torch.arange(0, output.size(0)),-last_lens-1]\n",
    "    x = torch.cat([last_hidden, \n",
    "                   max_pool, avg_pool], 1) #Concat pooling.\n",
    "    x = torch.where(torch.isnan(x) | torch.isinf(x), torch.zeros_like(x), x)\n",
    "\n",
    "    return x"
   ]
  },
  {
   "cell_type": "code",
   "execution_count": 4,
   "metadata": {},
   "outputs": [
    {
     "data": {
      "text/plain": [
       "(tensor([[[1., 5.],\n",
       "          [2., 6.],\n",
       "          [3., 7.],\n",
       "          [4., 8.]],\n",
       " \n",
       "         [[1., 5.],\n",
       "          [2., 6.],\n",
       "          [3., 7.],\n",
       "          [4., 8.]]]),\n",
       " tensor([[False, False, False, False],\n",
       "         [False, False,  True,  True]]),\n",
       " 3)"
      ]
     },
     "execution_count": 4,
     "metadata": {},
     "output_type": "execute_result"
    }
   ],
   "source": [
    "feat_seq_1 = [[1, 5],\n",
    "              [2, 6],\n",
    "              [3, 7],\n",
    "              [4, 8]]\n",
    "\n",
    "feat_seq_2 = [[6, 3], \n",
    "              [4, 7],\n",
    "              [5, 8],\n",
    "              [0, 0]]\n",
    "\n",
    "masked_1 = [False, False, False, False]\n",
    "masked_2 = [False, False, True, True]\n",
    "\n",
    "feats = tensor([feat_seq_1, feat_seq_1]).type(torch.float)\n",
    "attn = tensor([masked_1, masked_2]).type(torch.bool)\n",
    "bptt = 3\n",
    "feats, attn, bptt"
   ]
  },
  {
   "cell_type": "code",
   "execution_count": 5,
   "metadata": {},
   "outputs": [],
   "source": [
    "#        last  max    mean\n",
    "cor_1 = [4, 8, 4, 8, 2.5, 6.5]\n",
    "cor_2 = [2, 6, 2, 6, 1.5, 5.5]\n",
    "\n",
    "cor = tensor([cor_1, cor_2])\n",
    "test_eq(masked_concat_pool(feats, attn, bptt), cor)"
   ]
  },
  {
   "cell_type": "markdown",
   "metadata": {},
   "source": [
    "This is also encapsulated into a Layer for easier use."
   ]
  },
  {
   "cell_type": "code",
   "execution_count": 6,
   "metadata": {},
   "outputs": [],
   "source": [
    "# export\n",
    "\n",
    "class MaskedConcatPooling(Module):\n",
    "    \n",
    "    def __init__(self, seq_len = None, mask_is_attention = False):\n",
    "        \n",
    "        if seq_len is None:\n",
    "            self.bptt = None\n",
    "        else:\n",
    "            self.bptt = seq_len - 1 \n",
    "        self.mask_is_attention = mask_is_attention\n",
    "    \n",
    "    \n",
    "    def forward(self, x):\n",
    "        \n",
    "        x, mask = x\n",
    "        \n",
    "        if self.bptt is None:\n",
    "            bptt = mask.shape[1]\n",
    "        else:\n",
    "            bptt = self.bptt\n",
    "       \n",
    "        if self.mask_is_attention:\n",
    "            return masked_concat_pool(x, mask==False, bptt)\n",
    "        else:\n",
    "            return masked_concat_pool(x, mask, bptt)\n",
    "                "
   ]
  },
  {
   "cell_type": "code",
   "execution_count": 7,
   "metadata": {},
   "outputs": [],
   "source": [
    "pooler = MaskedConcatPooling(seq_len = 4)\n",
    "test_eq(pooler((feats, attn)), cor)"
   ]
  },
  {
   "cell_type": "code",
   "execution_count": 8,
   "metadata": {},
   "outputs": [],
   "source": [
    "pooler = MaskedConcatPooling(seq_len = None)\n",
    "test_eq(pooler((feats, attn)), cor)"
   ]
  },
  {
   "cell_type": "markdown",
   "metadata": {},
   "source": [
    "Oftentimes it is useful to pass tokens and masks through the model and collect the pooled outputs without any gradients."
   ]
  },
  {
   "cell_type": "code",
   "execution_count": 16,
   "metadata": {},
   "outputs": [],
   "source": [
    "# export\n",
    "\n",
    "def model_mask_pooting(input_ids, attention_mask, model, bs = 32):\n",
    "    \n",
    "    with torch.no_grad():\n",
    "            \n",
    "        if bs is not None:\n",
    "            out = []\n",
    "            for start in range(0, input_ids.shape[0], bs):            \n",
    "                res = model(input_ids = input_ids[start:start+bs],\n",
    "                            attention_mask = attention_mask[start:start+bs])\n",
    "                out.append(masked_concat_pool(res[0], attention_mask[start:start+bs], input_ids.shape[1]-1))\n",
    "            return torch.vstack(out)\n",
    "        else:\n",
    "            res = self.model(input_ids = input_ids,\n",
    "                             attention_mask = attention)\n",
    "            return masked_concat_pool(res[0], attention, \n",
    "                                      input_ids.shape[1]-1)"
   ]
  },
  {
   "cell_type": "code",
   "execution_count": 11,
   "metadata": {},
   "outputs": [],
   "source": [
    "from transformers import AutoModel\n",
    "\n",
    "\n",
    "model_name = 'Rostlab/prot_bert'\n",
    "model = AutoModel.from_pretrained(model_name)"
   ]
  },
  {
   "cell_type": "code",
   "execution_count": 14,
   "metadata": {},
   "outputs": [],
   "source": [
    "inp = [(fastuple(tensor([ 2, 21, 11,  8,  5, 3,  0]), tensor([ 1, 1, 1,  1,  1, 1,  0])))]*50\n",
    "\n",
    "input_ids, atten_mask = zip(*inp)\n",
    "input_ids = torch.vstack(input_ids)\n",
    "atten_mask = torch.vstack(atten_mask)\n"
   ]
  },
  {
   "cell_type": "code",
   "execution_count": 17,
   "metadata": {},
   "outputs": [],
   "source": [
    "res = model_mask_pooting(input_ids, atten_mask, model, bs = 32)"
   ]
  },
  {
   "cell_type": "code",
   "execution_count": 20,
   "metadata": {},
   "outputs": [],
   "source": [
    "test_eq(res.shape, (50, 3072))"
   ]
  },
  {
   "cell_type": "code",
   "execution_count": null,
   "metadata": {},
   "outputs": [],
   "source": []
  }
 ],
 "metadata": {
  "kernelspec": {
   "display_name": "Python [conda env:justenough] *",
   "language": "python",
   "name": "conda-env-justenough-py"
  },
  "language_info": {
   "codemirror_mode": {
    "name": "ipython",
    "version": 3
   },
   "file_extension": ".py",
   "mimetype": "text/x-python",
   "name": "python",
   "nbconvert_exporter": "python",
   "pygments_lexer": "ipython3",
   "version": "3.8.5"
  }
 },
 "nbformat": 4,
 "nbformat_minor": 4
}
