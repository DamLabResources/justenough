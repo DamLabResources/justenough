{
 "cells": [
  {
   "cell_type": "code",
   "execution_count": 4,
   "metadata": {},
   "outputs": [],
   "source": [
    "# default_exp transforms.dataloaders\n",
    "\n",
    "%reload_ext autoreload\n",
    "%autoreload 2"
   ]
  },
  {
   "cell_type": "code",
   "execution_count": 5,
   "metadata": {},
   "outputs": [],
   "source": [
    "import sys\n",
    "sys.path.append('../')"
   ]
  },
  {
   "cell_type": "markdown",
   "metadata": {},
   "source": [
    "# transforms.dataloaders\n",
    "\n",
    "Dataloader objects to get sequence and DataFrames into Fast.ai datasets."
   ]
  },
  {
   "cell_type": "code",
   "execution_count": 25,
   "metadata": {},
   "outputs": [],
   "source": [
    "# export \n",
    "\n",
    "from fastai.text.all import *\n",
    "\n",
    "\n",
    "from justenough.transforms.sequence import *"
   ]
  },
  {
   "cell_type": "markdown",
   "metadata": {},
   "source": [
    "This dataloader is useful for turning sequences into vectors using HuggingFace BERT encoders as preprocessing.\n",
    "\n",
    "Data can either be pre-processed ahead of time or processed on the fly."
   ]
  },
  {
   "cell_type": "code",
   "execution_count": 26,
   "metadata": {},
   "outputs": [],
   "source": [
    "\n",
    "# export\n",
    "\n",
    "\n",
    "class HFBertDataLoaders(DataLoaders):\n",
    "    \n",
    "    @staticmethod\n",
    "    def from_df(frame, tokenizer, model, sequence_col = 'sequence', label_col = None, vocab=None,\n",
    "                max_length = 128, device = 'cuda', bs = 32, precompute = True,\n",
    "                splitter = None, num_workers = 0):\n",
    "        \n",
    "        if splitter is None:\n",
    "            splitter = RandomSplitter()\n",
    "            \n",
    "            \n",
    "        seq_tfms = [ColReader(sequence_col),\n",
    "                    SpaceTransform(),\n",
    "                    HFTokenizerWrapper(tokenizer, \n",
    "                                       max_length=max_length, \n",
    "                                       tokens_only=False, \n",
    "                                       device = device),\n",
    "                    HFPoolingTransform(model, bs=bs)]\n",
    "        if label_col is None:\n",
    "            label_tfms = seq_tfms\n",
    "        else:\n",
    "            label_tfms = [ColReader(label_col), Categorize(vocab=vocab)]\n",
    "            \n",
    "        \n",
    "        if precompute:\n",
    "            \n",
    "            seq_pipe = Pipeline(seq_tfms)\n",
    "            seq_tls = seq_pipe(frame)\n",
    "            \n",
    "            if label_col is None:\n",
    "                label_tls = seq_tls\n",
    "            else:\n",
    "                label_tls = TfmdLists(frame, label_tfms)\n",
    "                \n",
    "            tls = TfmdLists(zip(seq_tls, label_tls), [])\n",
    "            train, test = splitter(tls)\n",
    "            \n",
    "            return DataLoaders.from_dsets(tls[train], tls[test], num_workers=0, bs=bs).to(device)\n",
    "            \n",
    "            \n",
    "        else:\n",
    "            \n",
    "            train, test = splitter(frame)\n",
    "            feat_tls = Datasets(frame, [seq_tfms, label_tfms],\n",
    "                               splits = (train, test))\n",
    "            \n",
    "            dls = feat_tls.dataloaders(num_workers=0, bs=bs).to(device)\n",
    "            \n",
    "            return dls"
   ]
  },
  {
   "cell_type": "code",
   "execution_count": 27,
   "metadata": {},
   "outputs": [
    {
     "data": {
      "text/html": [
       "<div>\n",
       "<style scoped>\n",
       "    .dataframe tbody tr th:only-of-type {\n",
       "        vertical-align: middle;\n",
       "    }\n",
       "\n",
       "    .dataframe tbody tr th {\n",
       "        vertical-align: top;\n",
       "    }\n",
       "\n",
       "    .dataframe thead th {\n",
       "        text-align: right;\n",
       "    }\n",
       "</style>\n",
       "<table border=\"1\" class=\"dataframe\">\n",
       "  <thead>\n",
       "    <tr style=\"text-align: right;\">\n",
       "      <th></th>\n",
       "      <th>accession</th>\n",
       "      <th>sample_tissue</th>\n",
       "      <th>coreceptor</th>\n",
       "      <th>sequence</th>\n",
       "    </tr>\n",
       "  </thead>\n",
       "  <tbody>\n",
       "    <tr>\n",
       "      <th>0</th>\n",
       "      <td>M17449</td>\n",
       "      <td>PBMC</td>\n",
       "      <td>CXCR4</td>\n",
       "      <td>MEPVDPRLEPWKHPGSQPKTACTTCYCKKCCFHCQVCFTKKALGISYGRKKRRQRRRAPEDSQTHQVSLPKQPAPQFRGDPTGPKESKKKVERETETHPVD*</td>\n",
       "    </tr>\n",
       "    <tr>\n",
       "      <th>1</th>\n",
       "      <td>M26727</td>\n",
       "      <td>PBMC</td>\n",
       "      <td>CCR5</td>\n",
       "      <td>MEPVDPRLEPWKHPGSQPKTASNNCYCKRCCLHCQVCFTKKGLGISYGRKKRRQRRRAPQDSKTHQVSLSKQPASQPRGDPTGPKESKKKVERETETDPED*</td>\n",
       "    </tr>\n",
       "    <tr>\n",
       "      <th>2</th>\n",
       "      <td>M17451</td>\n",
       "      <td>PBMC</td>\n",
       "      <td>CCR5|CXCR4</td>\n",
       "      <td>MEPVDPRLEPWKHPGSQPKTACNNCYCKKCCYHCQVCFLTKGLGISYGRKKRRQRRGPPQGSQTHQVSLSKQPTSQPRGDPTGPKESKEKVERETETDPAVQ</td>\n",
       "    </tr>\n",
       "    <tr>\n",
       "      <th>3</th>\n",
       "      <td>K02007</td>\n",
       "      <td>PBMC</td>\n",
       "      <td>CCR5|CXCR4</td>\n",
       "      <td>MEPVDPNLEPWKHPGSQPRTACNNCYCKKCCFHCYACFTRKGLGISYGRKKRRQRRRAPQDSQTHQASLSKQPASQSRGDPTGPTESKKKVERETETDPFD*</td>\n",
       "    </tr>\n",
       "    <tr>\n",
       "      <th>4</th>\n",
       "      <td>M62320</td>\n",
       "      <td>blood</td>\n",
       "      <td>NaN</td>\n",
       "      <td>MEPVDPNLEPWKHPGSQPTTACSNCYCKVCCWHCQLCFLKKGLGISYGKKKRKPRRGPPQGSKDHQTLIPKQPLPQSQRVSAGQEESKKKVESKAKTDRFA*</td>\n",
       "    </tr>\n",
       "  </tbody>\n",
       "</table>\n",
       "</div>"
      ],
      "text/plain": [
       "  accession sample_tissue  coreceptor  \\\n",
       "0    M17449          PBMC       CXCR4   \n",
       "1    M26727          PBMC        CCR5   \n",
       "2    M17451          PBMC  CCR5|CXCR4   \n",
       "3    K02007          PBMC  CCR5|CXCR4   \n",
       "4    M62320         blood         NaN   \n",
       "\n",
       "                                                                                                 sequence  \n",
       "0  MEPVDPRLEPWKHPGSQPKTACTTCYCKKCCFHCQVCFTKKALGISYGRKKRRQRRRAPEDSQTHQVSLPKQPAPQFRGDPTGPKESKKKVERETETHPVD*  \n",
       "1  MEPVDPRLEPWKHPGSQPKTASNNCYCKRCCLHCQVCFTKKGLGISYGRKKRRQRRRAPQDSKTHQVSLSKQPASQPRGDPTGPKESKKKVERETETDPED*  \n",
       "2  MEPVDPRLEPWKHPGSQPKTACNNCYCKKCCYHCQVCFLTKGLGISYGRKKRRQRRGPPQGSQTHQVSLSKQPTSQPRGDPTGPKESKEKVERETETDPAVQ  \n",
       "3  MEPVDPNLEPWKHPGSQPRTACNNCYCKKCCFHCYACFTRKGLGISYGRKKRRQRRRAPQDSQTHQASLSKQPASQSRGDPTGPTESKKKVERETETDPFD*  \n",
       "4  MEPVDPNLEPWKHPGSQPTTACSNCYCKVCCWHCQLCFLKKGLGISYGKKKRKPRRGPPQGSKDHQTLIPKQPLPQSQRVSAGQEESKKKVESKAKTDRFA*  "
      ]
     },
     "execution_count": 27,
     "metadata": {},
     "output_type": "execute_result"
    }
   ],
   "source": [
    "df = pd.read_csv('../tutorials/HIV_tat_example.csv').dropna(subset = ['sample_tissue']).head(100)\n",
    "df.head()"
   ]
  },
  {
   "cell_type": "code",
   "execution_count": 9,
   "metadata": {},
   "outputs": [],
   "source": [
    "from transformers import AutoTokenizer, AutoModel\n",
    "model_name = 'Rostlab/prot_bert'\n",
    "device = 'cpu'\n",
    "\n",
    "tokenizer = AutoTokenizer.from_pretrained(model_name)\n",
    "model = AutoModel.from_pretrained(model_name).to(device)"
   ]
  },
  {
   "cell_type": "code",
   "execution_count": 28,
   "metadata": {},
   "outputs": [],
   "source": [
    "dls = HFBertDataLoaders.from_df(df, tokenizer, model, \n",
    "                                sequence_col = 'sequence', label_col = 'sample_tissue', \n",
    "                                vocab=None,\n",
    "                                max_length = 128, device = 'cpu',\n",
    "                                bs = 32, precompute = True,\n",
    "                                splitter = None, num_workers = 0)"
   ]
  },
  {
   "cell_type": "code",
   "execution_count": 29,
   "metadata": {},
   "outputs": [],
   "source": [
    "x, y = dls.one_batch()\n",
    "test_eq(x.shape, (32, 3072))\n",
    "test_eq(y.shape, (32, ))"
   ]
  },
  {
   "cell_type": "code",
   "execution_count": 30,
   "metadata": {},
   "outputs": [],
   "source": [
    "dls = HFBertDataLoaders.from_df(df, tokenizer, model, \n",
    "                                sequence_col = 'sequence', label_col = 'sample_tissue', \n",
    "                                vocab=None,\n",
    "                                max_length = 128, device = 'cpu',\n",
    "                                bs = 32, precompute = False,\n",
    "                                splitter = None, num_workers = 0)"
   ]
  },
  {
   "cell_type": "code",
   "execution_count": 31,
   "metadata": {},
   "outputs": [],
   "source": [
    "x, y = dls.one_batch()\n",
    "test_eq(x.shape, (32, 3072))\n",
    "test_eq(y.shape, (32, ))"
   ]
  },
  {
   "cell_type": "code",
   "execution_count": null,
   "metadata": {},
   "outputs": [],
   "source": []
  }
 ],
 "metadata": {
  "kernelspec": {
   "display_name": "Python [conda env:justenough] *",
   "language": "python",
   "name": "conda-env-justenough-py"
  },
  "language_info": {
   "codemirror_mode": {
    "name": "ipython",
    "version": 3
   },
   "file_extension": ".py",
   "mimetype": "text/x-python",
   "name": "python",
   "nbconvert_exporter": "python",
   "pygments_lexer": "ipython3",
   "version": "3.8.5"
  }
 },
 "nbformat": 4,
 "nbformat_minor": 4
}
