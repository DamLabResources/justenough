{
 "cells": [
  {
   "cell_type": "code",
   "execution_count": null,
   "metadata": {},
   "outputs": [],
   "source": [
    "# default_exp glp.data\n",
    "\n",
    "%reload_ext autoreload\n",
    "%autoreload 2"
   ]
  },
  {
   "cell_type": "code",
   "execution_count": 2,
   "metadata": {},
   "outputs": [],
   "source": [
    "from nbdev import *"
   ]
  },
  {
   "cell_type": "markdown",
   "metadata": {},
   "source": [
    "# glp.data\n",
    "\n",
    "A collection of classes, utility functions, etc. to handle the obnoxiousness of biological data."
   ]
  },
  {
   "cell_type": "code",
   "execution_count": 3,
   "metadata": {},
   "outputs": [],
   "source": [
    "import sys\n",
    "sys.path.append('../')"
   ]
  },
  {
   "cell_type": "code",
   "execution_count": 4,
   "metadata": {},
   "outputs": [],
   "source": [
    "#export\n",
    "\n",
    "from fastai.text import *\n",
    "\n",
    "import pandas as pd\n",
    "import numpy as np\n"
   ]
  },
  {
   "cell_type": "markdown",
   "metadata": {},
   "source": [
    "## Fasta Files\n",
    "\n",
    "The most common dataformat for sequence info is a Fasta file.\n",
    "\n",
    "```\n",
    ">seq1\n",
    "MRATCRA\n",
    ">seq2\n",
    "MRATTRA\n",
    "```\n",
    "\n",
    "This often needs to get paired with phenotype information held in the fasta file itself (in the header) or using the header as a key to match information in the csv file. This pipeline is a modular tool for performing some of these common functions and creating easy to use files for downstream processing.\n",
    "\n",
    "This is structured in a modular way for easy reusability.\n",
    "\n",
    "So an `AbstractRecordExtractor` should:\n",
    " - defines a `__call__` method that takes a seq_record and can recieve **kwargs from previous transforms.\n"
   ]
  },
  {
   "cell_type": "code",
   "execution_count": 5,
   "metadata": {},
   "outputs": [],
   "source": [
    "#export\n",
    "\n",
    "class AbstractRecordExtractor(object):\n",
    "    \n",
    "    \n",
    "    def __call__(self, seqR, **kwargs):\n",
    "        raise NotImplementedError\n",
    "\n"
   ]
  },
  {
   "cell_type": "markdown",
   "metadata": {},
   "source": [
    "The simplest of which is likely the `SeqExtractor` which retreives the sequence from the record and optionally truncates it."
   ]
  },
  {
   "cell_type": "code",
   "execution_count": 6,
   "metadata": {},
   "outputs": [],
   "source": [
    "# export\n",
    "class SeqExtractor(AbstractRecordExtractor):\n",
    "    \n",
    "    def __init__(self, field = 'sequence', truncate = None, ungap = False):\n",
    "        \n",
    "        self.field = field\n",
    "        self.truncate = truncate\n",
    "        self.ungap = ungap\n",
    "        \n",
    "    def __call__(self, seqR, **kwargs):\n",
    "        \n",
    "        seq = str(seqR.seq)\n",
    "        if self.ungap:\n",
    "            seq = seq.replace('-', '')\n",
    "            \n",
    "        if self.truncate is not None:\n",
    "            seq = seq[:self.truncate]\n",
    "            \n",
    "        return {self.field: seq}"
   ]
  },
  {
   "cell_type": "code",
   "execution_count": 7,
   "metadata": {},
   "outputs": [],
   "source": [
    "from Bio.SeqRecord import SeqRecord\n",
    "from Bio.Seq import Seq\n",
    "\n",
    "seq_trial = SeqRecord(Seq('ACGTACGT'), id = 'SeqID')\n",
    "\n",
    "seq_ext = SeqExtractor()\n",
    "features = seq_ext(seq_trial)\n",
    "assert 'sequence' in features\n",
    "assert features['sequence'] == 'ACGTACGT'\n",
    "\n",
    "\n",
    "seq_ext = SeqExtractor(truncate=4)\n",
    "features = seq_ext(seq_trial)\n",
    "assert 'sequence' in features\n",
    "assert features['sequence'] == 'ACGT'\n",
    "\n"
   ]
  },
  {
   "cell_type": "markdown",
   "metadata": {},
   "source": [
    "And something to read and process the id."
   ]
  },
  {
   "cell_type": "code",
   "execution_count": 8,
   "metadata": {},
   "outputs": [],
   "source": [
    "#export\n",
    "\n",
    "class IDExtractor(AbstractRecordExtractor):\n",
    "    \n",
    "    def __init__(self, field = 'id', keyfunc = None, returns_dict = False):\n",
    "        \n",
    "        self.field = field\n",
    "        self.returns_dict = returns_dict\n",
    "        self.keyfunc = keyfunc if keyfunc else lambda x: x\n",
    "        \n",
    "    def __call__(self, seqR, **kwargs):\n",
    "        \n",
    "        _id = seqR.id\n",
    "        res = self.keyfunc(_id)\n",
    "        if self.returns_dict:\n",
    "            return res\n",
    "        else:\n",
    "            return {self.field: res}\n",
    "        \n",
    "        "
   ]
  },
  {
   "cell_type": "code",
   "execution_count": 9,
   "metadata": {},
   "outputs": [],
   "source": [
    "seq_trial = SeqRecord(Seq('ACGTACGT'), id = 'SeqID')\n",
    "\n",
    "seq_ext = IDExtractor()\n",
    "features = seq_ext(seq_trial)\n",
    "assert 'id' in features\n",
    "assert features['id'] == 'SeqID'\n",
    "\n",
    "\n",
    "seq_ext = IDExtractor(keyfunc = lambda _id: _id.lower())\n",
    "features = seq_ext(seq_trial)\n",
    "assert 'id' in features\n",
    "assert features['id'] == 'seqid'\n",
    "\n",
    "def split_func(_id):\n",
    "    return {'first': _id[:3], 'last': _id[-2:]}\n",
    "\n",
    "seq_ext = IDExtractor(keyfunc = split_func, returns_dict=True)\n",
    "features = seq_ext(seq_trial)\n",
    "assert ('first' in features) and ('last' in features)\n",
    "assert (features['first'] == 'Seq') and (features['last'] == 'ID')\n",
    "\n"
   ]
  },
  {
   "cell_type": "markdown",
   "metadata": {},
   "source": [
    "These two processes cover >90% of use cases.\n",
    "Let's see how to combine these into a `FastaPipeline` to pre-process fasta files into easier to use csv files."
   ]
  },
  {
   "cell_type": "code",
   "execution_count": 10,
   "metadata": {},
   "outputs": [],
   "source": [
    "#export\n",
    "\n",
    "from itertools import chain\n",
    "\n",
    "\n",
    "class FastaPipeline(object):\n",
    "    \n",
    "    def __init__(self, extractors):\n",
    "        \n",
    "        self.extractors = extractors\n",
    "        \n",
    "    \n",
    "    def process_seqrecord(self, seqR):\n",
    "        \n",
    "        info = {}\n",
    "        for ext in self.extractors:\n",
    "            info.update(ext(seqR, **info))\n",
    "        \n",
    "        return info\n",
    "    \n",
    "    \n",
    "    def process_seq_stream(self, stream):\n",
    "        \n",
    "        seq_data = []\n",
    "        for seqR in stream:\n",
    "            seq_data.append(self.process_seqrecord(seqR))\n",
    "        \n",
    "        seq_df = pd.DataFrame(seq_data)\n",
    "        \n",
    "        return seq_df\n",
    "    \n",
    "    def fasta2df(self, path = None, stream = None, \n",
    "                 feature_data = None, merge_keys = None,\n",
    "                 grouper = None):\n",
    "        \n",
    "        if stream is None:\n",
    "            if type(path) == str:\n",
    "                stream = SeqIO.parse(open(path), 'fasta')\n",
    "            else:\n",
    "                stream = chain.from_iterable(SeqIO.parse(open(p), 'fasta') for p in path)\n",
    "            \n",
    "        seq_df = self.process_seq_stream(stream)\n",
    "        \n",
    "        if feature_data is not None:\n",
    "            assert merge_keys is not None, 'If feature_data is provided merge_keys must be provided'\n",
    "            feature_on, seq_on = merge_keys\n",
    "            res = pd.merge(feature_data, seq_df,\n",
    "                           left_on = feature_on, right_on = seq_on)\n",
    "        else:\n",
    "            res = seq_df\n",
    "            \n",
    "        if grouper is not None:\n",
    "            res = res.groupby(grouper, as_index = False).first()\n",
    "        \n",
    "        return res\n"
   ]
  },
  {
   "cell_type": "code",
   "execution_count": 11,
   "metadata": {},
   "outputs": [
    {
     "data": {
      "text/html": [
       "<div>\n",
       "<style scoped>\n",
       "    .dataframe tbody tr th:only-of-type {\n",
       "        vertical-align: middle;\n",
       "    }\n",
       "\n",
       "    .dataframe tbody tr th {\n",
       "        vertical-align: top;\n",
       "    }\n",
       "\n",
       "    .dataframe thead th {\n",
       "        text-align: right;\n",
       "    }\n",
       "</style>\n",
       "<table border=\"1\" class=\"dataframe\">\n",
       "  <thead>\n",
       "    <tr style=\"text-align: right;\">\n",
       "      <th></th>\n",
       "      <th>idl</th>\n",
       "      <th>feature</th>\n",
       "      <th>sequence</th>\n",
       "      <th>id</th>\n",
       "    </tr>\n",
       "  </thead>\n",
       "  <tbody>\n",
       "    <tr>\n",
       "      <th>0</th>\n",
       "      <td>seqid1</td>\n",
       "      <td>1</td>\n",
       "      <td>ACGTACGT</td>\n",
       "      <td>seqid1</td>\n",
       "    </tr>\n",
       "    <tr>\n",
       "      <th>1</th>\n",
       "      <td>seqid2</td>\n",
       "      <td>2</td>\n",
       "      <td>TGCATGCA</td>\n",
       "      <td>seqid2</td>\n",
       "    </tr>\n",
       "  </tbody>\n",
       "</table>\n",
       "</div>"
      ],
      "text/plain": [
       "      idl  feature  sequence      id\n",
       "0  seqid1        1  ACGTACGT  seqid1\n",
       "1  seqid2        2  TGCATGCA  seqid2"
      ]
     },
     "execution_count": 11,
     "metadata": {},
     "output_type": "execute_result"
    }
   ],
   "source": [
    "seq_stream = [SeqRecord(Seq('ACGTACGT'), id = 'SeqID1'),\n",
    "              SeqRecord(Seq('TGCATGCA'), id = 'SeqID2')]\n",
    "\n",
    "df = pd.DataFrame([{'idl': 'seqid1', 'feature': 1},\n",
    "                   {'idl': 'seqid2', 'feature': 2},\n",
    "                   ])\n",
    "\n",
    "pipeline = FastaPipeline([SeqExtractor(), \n",
    "                          IDExtractor(keyfunc=lambda _id: _id.lower())])\n",
    "\n",
    "res = pipeline.fasta2df(stream = seq_stream, \n",
    "                        feature_data=df,\n",
    "                        merge_keys = ('idl', 'id'))\n",
    "pd.testing.assert_series_equal(res['feature'], pd.Series([1, 2]), check_names=False)\n",
    "pd.testing.assert_series_equal(res['sequence'], pd.Series(['ACGTACGT', 'TGCATGCA']), check_names=False)\n",
    "res"
   ]
  },
  {
   "cell_type": "code",
   "execution_count": null,
   "metadata": {},
   "outputs": [],
   "source": []
  }
 ],
 "metadata": {
  "kernelspec": {
   "display_name": "Python [conda env:justenough] *",
   "language": "python",
   "name": "conda-env-justenough-py"
  },
  "language_info": {
   "codemirror_mode": {
    "name": "ipython",
    "version": 3
   },
   "file_extension": ".py",
   "mimetype": "text/x-python",
   "name": "python",
   "nbconvert_exporter": "python",
   "pygments_lexer": "ipython3",
   "version": "3.8.5"
  }
 },
 "nbformat": 4,
 "nbformat_minor": 4
}
